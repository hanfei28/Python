{
 "cells": [
  {
   "cell_type": "markdown",
   "metadata": {},
   "source": [
    "# Networked Program\n",
    "\n",
    "Fei Han\n",
    "2019-02-15"
   ]
  },
  {
   "cell_type": "markdown",
   "metadata": {},
   "source": [
    "## 1. Receive Text File from Server"
   ]
  },
  {
   "cell_type": "code",
   "execution_count": 6,
   "metadata": {},
   "outputs": [
    {
     "name": "stdout",
     "output_type": "stream",
     "text": [
      "**Received Successfully**:\r\n",
      "\r\n",
      " HTTP/1.1 200 OK\r\n",
      "Date: Fri, 15 Feb 2019 16:19:54 GMT\r\n",
      "Server: Apache/2.4.18 (Ubuntu)\r\n",
      "Last-Modified: Sat, 13 May 2017 11:22:22 GMT\r\n",
      "ETag: \"a7-54f6609245537\"\r\n",
      "Accept-Ranges: bytes\r\n",
      "Content-Length: 167\r\n",
      "Cache-Control: max-age=0, no-cache, no-store, must-revalidate\r\n",
      "Pragma: no-cache\r\n",
      "Expires: Wed, 11 Jan 1984 05:00:00 GMT\r\n",
      "Connection: close\r\n",
      "Content-Type: text/plain\r\n",
      "\r\n",
      "But soft what light through yonder window breaks\n",
      "It is the east and Juliet is the sun\n",
      "Arise fair sun and kill the envious moon\n",
      "Who is already s**Received Successfully**:\r\n",
      "\r\n",
      " ick and pale with grief\n"
     ]
    }
   ],
   "source": [
    "import socket\n",
    "\n",
    "mysock = socket.socket(socket.AF_INET, socket.SOCK_STREAM)\n",
    "mysock.connect(('data.pr4e.org', 80))\n",
    "cmd = 'GET http://data.pr4e.org/romeo.txt HTTP/1.0\\r\\n\\r\\n'.encode()\n",
    "mysock.send(cmd)\n",
    "\n",
    "while True:\n",
    "    data = mysock.recv(512)\n",
    "    if len(data)<1:\n",
    "        break\n",
    "    print(\"**Received Successfully**:\\r\\n\\r\\n\",data.decode(), end='')\n",
    "\n",
    "mysock.close()"
   ]
  },
  {
   "cell_type": "markdown",
   "metadata": {},
   "source": [
    "## 2. import socket"
   ]
  },
  {
   "cell_type": "code",
   "execution_count": 10,
   "metadata": {},
   "outputs": [
    {
     "name": "stdout",
     "output_type": "stream",
     "text": [
      "5120 5120\n",
      "2180 7300\n",
      "5120 12420\n",
      "720 13140\n",
      "1460 14600\n",
      "5120 19720\n",
      "720 20440\n",
      "5120 25560\n",
      "720 26280\n",
      "5120 31400\n",
      "2180 33580\n",
      "1460 35040\n",
      "5120 40160\n",
      "2180 42340\n",
      "4380 46720\n",
      "5120 51840\n",
      "720 52560\n",
      "5120 57680\n",
      "720 58400\n",
      "5120 63520\n",
      "720 64240\n",
      "5120 69360\n",
      "720 70080\n",
      "5120 75200\n",
      "720 75920\n",
      "2920 78840\n",
      "5120 83960\n",
      "720 84680\n",
      "5120 89800\n",
      "720 90520\n",
      "5120 95640\n",
      "2180 97820\n",
      "5120 102940\n",
      "2180 105120\n",
      "5120 110240\n",
      "720 110960\n",
      "5120 116080\n",
      "2180 118260\n",
      "5120 123380\n",
      "720 124100\n",
      "1460 125560\n",
      "5120 130680\n",
      "720 131400\n",
      "5120 136520\n",
      "720 137240\n",
      "5120 142360\n",
      "720 143080\n",
      "5120 148200\n",
      "720 148920\n",
      "5120 154040\n",
      "720 154760\n",
      "5120 159880\n",
      "720 160600\n",
      "5120 165720\n",
      "720 166440\n",
      "5120 171560\n",
      "720 172280\n",
      "2920 175200\n",
      "5120 180320\n",
      "2180 182500\n",
      "5120 187620\n",
      "720 188340\n",
      "5120 193460\n",
      "720 194180\n",
      "1460 195640\n",
      "5120 200760\n",
      "720 201480\n",
      "5120 206600\n",
      "720 207320\n",
      "5120 212440\n",
      "720 213160\n",
      "5120 218280\n",
      "720 219000\n",
      "5120 224120\n",
      "720 224840\n",
      "5120 229960\n",
      "648 230608\n",
      "Header length 394\n",
      "HTTP/1.1 200 OK\r\n",
      "Date: Fri, 15 Feb 2019 16:24:48 GMT\r\n",
      "Server: Apache/2.4.18 (Ubuntu)\r\n",
      "Last-Modified: Mon, 15 May 2017 12:27:40 GMT\r\n",
      "ETag: \"38342-54f8f2e5b6277\"\r\n",
      "Accept-Ranges: bytes\r\n",
      "Content-Length: 230210\r\n",
      "Vary: Accept-Encoding\r\n",
      "Cache-Control: max-age=0, no-cache, no-store, must-revalidate\r\n",
      "Pragma: no-cache\r\n",
      "Expires: Wed, 11 Jan 1984 05:00:00 GMT\r\n",
      "Connection: close\r\n",
      "Content-Type: image/jpeg\n"
     ]
    }
   ],
   "source": [
    "import time\n",
    "import socket\n",
    "\n",
    "HOST = 'data.pr4e.org'\n",
    "PORT = 80\n",
    "mysock = socket.socket(socket.AF_INET, socket.SOCK_STREAM)\n",
    "mysock.connect((HOST, PORT))\n",
    "mysock.sendall(b'GET http://data.pr4e.org/cover3.jpg HTTP/1.0\\r\\n\\r\\n')\n",
    "count = 0\n",
    "picture = b\"\"\n",
    "while True:\n",
    "    data = mysock.recv(5120)\n",
    "    if len(data) < 1: break\n",
    "    #time.sleep(0.25)\n",
    "    count = count + len(data)\n",
    "    print(len(data), count)\n",
    "    picture = picture + data\n",
    "    \n",
    "mysock.close()\n",
    "\n",
    "# Look for the end of the header (2 CRLF)\n",
    "pos = picture.find(b\"\\r\\n\\r\\n\")\n",
    "print('Header length', pos)\n",
    "print(picture[:pos].decode())\n",
    "\n",
    "# Skip past the header and save the picture data\n",
    "picture = picture[pos+4:]\n",
    "fhand = open(\"stuff.jpg\", \"wb\")\n",
    "fhand.write(picture)\n",
    "fhand.close()"
   ]
  },
  {
   "cell_type": "markdown",
   "metadata": {},
   "source": [
    "## Parsing XML"
   ]
  },
  {
   "cell_type": "markdown",
   "metadata": {},
   "source": [
    "XML is Extensible Markup Language, which is more strucutred than HTML."
   ]
  },
  {
   "cell_type": "code",
   "execution_count": 1,
   "metadata": {},
   "outputs": [
    {
     "name": "stdout",
     "output_type": "stream",
     "text": [
      "Name: Chuck\n",
      "Attr: yes\n"
     ]
    }
   ],
   "source": [
    "import xml.etree.ElementTree as ET\n",
    "\n",
    "data = '''\n",
    "<person>\n",
    "  <name>Chuck</name>\n",
    "  <phone type=\"intl\">\n",
    "    +1 123 456 7892\n",
    "  </phone>\n",
    "  <email hide=\"yes\"/>\n",
    "</person>\n",
    "'''\n",
    "tree = ET.fromstring(data)\n",
    "print('Name:',tree.find('name').text)\n",
    "print('Attr:', tree.find('email').get('hide'))"
   ]
  },
  {
   "cell_type": "markdown",
   "metadata": {},
   "source": [
    "## Parsing JSON"
   ]
  },
  {
   "cell_type": "markdown",
   "metadata": {},
   "source": [
    "JSON-Java Script Object Notation, is a list of dictionaries. "
   ]
  },
  {
   "cell_type": "code",
   "execution_count": 4,
   "metadata": {},
   "outputs": [
    {
     "name": "stdout",
     "output_type": "stream",
     "text": [
      "User count: 2\n",
      "Name Chuck\n",
      "ID 001\n",
      "Atti 2\n",
      "Name Brent\n",
      "ID 009\n",
      "Atti 7\n"
     ]
    }
   ],
   "source": [
    "import json\n",
    "\n",
    "data = '''\n",
    "[\n",
    "  { \"id\" : \"001\",\n",
    "    \"x\" : \"2\",\n",
    "    \"name\" : \"Chuck\"},\n",
    "  { \"id\" : \"009\",\n",
    "    \"x\" : \"7\",\n",
    "    \"name\" : \"Brent\"    \n",
    "  }\n",
    "]\n",
    "'''\n",
    "\n",
    "info = json.loads(data)\n",
    "print('User count:', len(info))\n",
    "\n",
    "for item in info:\n",
    "    print('Name', item['name'])\n",
    "    print('ID',item['id'])\n",
    "    print('Atti', item['x'])"
   ]
  },
  {
   "cell_type": "code",
   "execution_count": 5,
   "metadata": {},
   "outputs": [
    {
     "data": {
      "text/plain": [
       "list"
      ]
     },
     "execution_count": 5,
     "metadata": {},
     "output_type": "execute_result"
    }
   ],
   "source": [
    "type(info)"
   ]
  },
  {
   "cell_type": "code",
   "execution_count": null,
   "metadata": {},
   "outputs": [],
   "source": []
  }
 ],
 "metadata": {
  "kernelspec": {
   "display_name": "Python 3",
   "language": "python",
   "name": "python3"
  },
  "language_info": {
   "codemirror_mode": {
    "name": "ipython",
    "version": 3
   },
   "file_extension": ".py",
   "mimetype": "text/x-python",
   "name": "python",
   "nbconvert_exporter": "python",
   "pygments_lexer": "ipython3",
   "version": "3.6.4"
  }
 },
 "nbformat": 4,
 "nbformat_minor": 2
}
